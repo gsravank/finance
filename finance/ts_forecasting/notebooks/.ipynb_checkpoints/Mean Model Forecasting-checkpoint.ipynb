{
 "cells": [
  {
   "cell_type": "markdown",
   "metadata": {},
   "source": [
    "# Mean (Constant) Model\n",
    "This is one of the simplest cases of forecasting where we need to predict the next variable in a sequence of independent and identically distributed random variables (also called IID). To understand all the aspects of this model, we will use a variable which is normally distributed. The mean and standard deviation of this distribution will be stored in a file and will be unknown. We will predict parameters for this model and then compare how close we were to the original parameters of the distribution.\n",
    "\n",
    "Below are the steps we will follow\n",
    "1. Generate time series based on the unknown parameters stored in file\n",
    "2. Estimate parameters of the variable\n",
    "3. Forecast next few occurences based on the given time series\n",
    "4. Compare estimates and forecasts with original parameters\n",
    "\n",
    "## Generate Time Series\n",
    "First, we read in the mean and standard deviation parameters stored in a file. We will not look at these parameters till the end of the notebook. We will also not assume the knowledge of fact that the original variable is normally distributed\n",
    "\n",
    "We generate a time series of a given sample size based on these parameters"
   ]
  },
  {
   "cell_type": "code",
   "execution_count": 1,
   "metadata": {},
   "outputs": [],
   "source": [
    "import numpy as np\n",
    "\n",
    "sample_size = 30\n",
    "param_file = '/Users/sravan/Desktop/projects/finance/finance/ts_forecasting/data/mean_model_parameters.txt'\n",
    "\n",
    "def get_parameters(file_name):\n",
    "    with open(file_name, 'r') as f:\n",
    "        lines = f.readlines()\n",
    "    \n",
    "    mean = float(str(lines[0]).strip())\n",
    "    stddev = float(str(lines[1]).strip())\n",
    "    \n",
    "    return mean, stddev\n",
    "\n",
    "def generate_time_series(mean, stddev, sample_size):\n",
    "    return np.random.normal(mean, stddev, sample_size)\n",
    "\n",
    "mean, stddev = get_parameters(param_file)\n",
    "sample_series = generate_time_series(mean, stddev, sample_size)"
   ]
  },
  {
   "cell_type": "markdown",
   "metadata": {},
   "source": [
    "Let's take a look at the time series"
   ]
  },
  {
   "cell_type": "code",
   "execution_count": 2,
   "metadata": {},
   "outputs": [
    {
     "data": {
      "image/png": "[encoded data removed]",
      "text/plain": [
       "<Figure size 432x288 with 1 Axes>"
      ]
     },
     "metadata": {},
     "output_type": "display_data"
    }
   ],
   "source": [
    "%matplotlib inline\n",
    "import matplotlib.pyplot as plt\n",
    "\n",
    "plt.plot(sample_series, 'bo')\n",
    "plt.ylim(0,80)\n",
    "plt.show()"
   ]
  },
  {
   "cell_type": "markdown",
   "metadata": {},
   "source": [
    "## Initial Observations\n",
    "1. Observations appear to be centered around 40\n",
    "2. Most of the observations are between 30 and 50\n",
    "\n",
    "\n",
    "# Estimate Parameters\n",
    "\n",
    "## Mean Estimate\n",
    "For the mean model, the best forecast for the next occurences of the variable is the mean of the variable. We estimate the mean of the variable by the sample mean"
   ]
  },
  {
   "cell_type": "code",
   "execution_count": 3,
   "metadata": {},
   "outputs": [
    {
     "data": {
      "text/plain": [
       "41.71993058811131"
      ]
     },
     "execution_count": 3,
     "metadata": {},
     "output_type": "execute_result"
    }
   ],
   "source": [
    "sample_mean = np.mean(sample_series)\n",
    "sample_mean"
   ]
  },
  {
   "cell_type": "markdown",
   "metadata": {},
   "source": [
    "## Standard Error (of the mean estimate)\n",
    "Since the above value is just an estimate for the original variable's mean, we need to understand the accuracy of this estimate. We do that by measuring the standard deviation of the distribution of the sample means\n",
    "\n",
    "By virtue of CLT, we know that the distribution of the sample means is normal. The standard deviation of this distribution is standard deviation of the sample divided by the square root of the sample size\n",
    "\n",
    "This is also called standard error."
   ]
  },
  {
   "cell_type": "code",
   "execution_count": 4,
   "metadata": {},
   "outputs": [
    {
     "data": {
      "text/plain": [
       "6.4408539592356373"
      ]
     },
     "execution_count": 4,
     "metadata": {},
     "output_type": "execute_result"
    }
   ],
   "source": [
    "sample_stddev = np.std(sample_series, ddof=1)\n",
    "sample_stddev"
   ]
  },
  {
   "cell_type": "code",
   "execution_count": 5,
   "metadata": {},
   "outputs": [
    {
     "data": {
      "text/plain": [
       "1.1759336676899395"
      ]
     },
     "execution_count": 5,
     "metadata": {},
     "output_type": "execute_result"
    }
   ],
   "source": [
    "mean_standard_error = sample_stddev / np.sqrt(sample_size)\n",
    "mean_standard_error"
   ]
  },
  {
   "cell_type": "markdown",
   "metadata": {},
   "source": [
    "The above value of standard error means that if we calculate the sample mean for various such samples of the same size, the distribution followed by the sample means will have the above standard deviation\n",
    "\n",
    "## Confidence Interval of the Mean\n",
    "We can derive a confidence interval for 95% confidence for the mean using t-distribution. We do this via two ways\n",
    "\n",
    "1. Use the calculated mean, standard error and critical t-value to manually calculate the interval\n",
    "2. Use statsmodel package to automatically calculate the interval\n",
    "3. Use scipy package to automatically calculate the interval"
   ]
  },
  {
   "cell_type": "code",
   "execution_count": 6,
   "metadata": {},
   "outputs": [
    {
     "data": {
      "text/plain": [
       "(39.314876193770019, 44.124984982452602)"
      ]
     },
     "execution_count": 6,
     "metadata": {},
     "output_type": "execute_result"
    }
   ],
   "source": [
    "# Calculate confidence interval manually\n",
    "from scipy import stats\n",
    "\n",
    "confidence_level = 0.95\n",
    "p_value = 1.0 - ((1.0 - confidence_level)/2.0) # for 2-sided tail\n",
    "t_value = stats.t.ppf(p_value, sample_size-1)\n",
    "\n",
    "mci_manual = (sample_mean - (t_value * mean_standard_error), sample_mean + (t_value * mean_standard_error))\n",
    "mci_manual"
   ]
  },
  {
   "cell_type": "code",
   "execution_count": 7,
   "metadata": {},
   "outputs": [
    {
     "data": {
      "text/plain": [
       "(39.314876193770026, 44.124984982452609)"
      ]
     },
     "execution_count": 7,
     "metadata": {},
     "output_type": "execute_result"
    }
   ],
   "source": [
    "# Calculate confidence interval using statsmodels\n",
    "import statsmodels.stats.api as sms\n",
    "\n",
    "mci_sms = sms.DescrStatsW(sample_series).tconfint_mean()\n",
    "mci_sms"
   ]
  },
  {
   "cell_type": "code",
   "execution_count": 8,
   "metadata": {},
   "outputs": [
    {
     "data": {
      "text/plain": [
       "(39.314876193770019, 44.124984982452602)"
      ]
     },
     "execution_count": 8,
     "metadata": {},
     "output_type": "execute_result"
    }
   ],
   "source": [
    "## Calculate confidence interval using Scipy\n",
    "\n",
    "mci_scipy = stats.t.interval(confidence_level, sample_size-1, loc=np.mean(sample_series), scale=stats.sem(sample_series))\n",
    "mci_scipy"
   ]
  },
  {
   "cell_type": "code",
   "execution_count": 13,
   "metadata": {},
   "outputs": [
    {
     "name": "stdout",
     "output_type": "stream",
     "text": [
      "+-----------------+------------------------------------------+\n",
      "|   Mean Estimate | Mean Confidence Interval                 |\n",
      "+=================+==========================================+\n",
      "|         41.7199 | (39.314876193770026, 44.124984982452609) |\n",
      "+-----------------+------------------------------------------+\n"
     ]
    }
   ],
   "source": [
    "# Estimate for the mean and confidence interval\n",
    "from tabulate import tabulate\n",
    "\n",
    "mean_confidence_interval = mci_sms\n",
    "mean_estimate = sample_mean\n",
    "print(tabulate([[mean_estimate, mean_confidence_interval]], headers=['Mean Estimate', 'Mean Confidence Interval'], \n",
    "               tablefmt='grid')\n",
    "     )"
   ]
  },
  {
   "cell_type": "markdown",
   "metadata": {},
   "source": [
    "Let's plot the mean and the confidence interval along with the sample series to get a better picture."
   ]
  },
  {
   "cell_type": "code",
   "execution_count": 18,
   "metadata": {},
   "outputs": [
    {
     "data": {
      "image/png": "[encoded data removed]",
      "text/plain": [
       "<Figure size 432x288 with 1 Axes>"
      ]
     },
     "metadata": {},
     "output_type": "display_data"
    }
   ],
   "source": [
    "plt.plot(sample_series, 'bo')\n",
    "plt.hlines(mean_estimate, linestyles='solid', colors='g', xmin=0, xmax=sample_size)\n",
    "plt.hlines(mean_confidence_interval, linestyles='dashed', colors='g', xmin=0, xmax=sample_size)\n",
    "plt.title('Estimate of Mean and Its Confidence Interval')\n",
    "plt.show()"
   ]
  },
  {
   "cell_type": "markdown",
   "metadata": {},
   "source": [
    "# Forecasting\n",
    "The best estimate for the next occurence of the variable is the estimated mean itself. But how accurate will we be in doing this?\n",
    "\n",
    "Error in forecasts will have two sources\n",
    "1. Intrinsic error (random noise in data)\n",
    "2. Error is estimating the paramter\n",
    "\n",
    "We can also estimate the confidence interval for the forecast (assuming that the underlying variable is normal)"
   ]
  },
  {
   "cell_type": "code",
   "execution_count": 23,
   "metadata": {},
   "outputs": [
    {
     "data": {
      "text/plain": [
       "6.5473215680160468"
      ]
     },
     "execution_count": 23,
     "metadata": {},
     "output_type": "execute_result"
    }
   ],
   "source": [
    "forecast_standard_error = np.sqrt((sample_stddev*sample_stddev) + (mean_standard_error*mean_standard_error))\n",
    "forecast_confidence_interval = (mean_estimate - t_value*forecast_standard_error, mean_estimate + t_value*forecast_standard_error)\n",
    "forecast_standard_error"
   ]
  },
  {
   "cell_type": "code",
   "execution_count": 25,
   "metadata": {},
   "outputs": [
    {
     "data": {
      "text/plain": [
       "6.5473215680160468"
      ]
     },
     "execution_count": 25,
     "metadata": {},
     "output_type": "execute_result"
    }
   ],
   "source": [
    "sample_stddev * np.sqrt(1.0 + (1.0 / sample_size))"
   ]
  },
  {
   "cell_type": "code",
   "execution_count": 22,
   "metadata": {},
   "outputs": [
    {
     "data": {
      "text/plain": [
       "(28.329154440630123, 55.110706735592501)"
      ]
     },
     "execution_count": 22,
     "metadata": {},
     "output_type": "execute_result"
    }
   ],
   "source": [
    "forecast_confidence_interval"
   ]
  },
  {
   "cell_type": "markdown",
   "metadata": {},
   "source": [
    "Let's plot the forecast for the next 5 occurences and their confidence intervals"
   ]
  },
  {
   "cell_type": "code",
   "execution_count": 21,
   "metadata": {},
   "outputs": [
    {
     "data": {
      "image/png": "[encoded data removed]",
      "text/plain": [
       "<Figure size 432x288 with 1 Axes>"
      ]
     },
     "metadata": {},
     "output_type": "display_data"
    }
   ],
   "source": [
    "num_occurences = 5\n",
    "plt.plot(sample_series, 'bo')\n",
    "plt.ylim(0, 80)\n",
    "plt.hlines(mean_estimate, linestyles='solid', colors='g', xmin=0, xmax=sample_size)\n",
    "plt.hlines(mean_estimate, linestyles='solid', colors='r', xmin=sample_size, xmax=sample_size + num_occurences)\n",
    "plt.hlines(forecast_confidence_interval, linestyles='dashed', colors='r', xmin=sample_size, xmax=sample_size + num_occurences)\n",
    "plt.title('Forecasts and Confidence Intervals')\n",
    "plt.show()"
   ]
  },
  {
   "cell_type": "markdown",
   "metadata": {},
   "source": [
    "# Compare Estimates and Original Parameters\n",
    "Let's look at the original parameters and the estimates we calculated above"
   ]
  },
  {
   "cell_type": "code",
   "execution_count": 26,
   "metadata": {},
   "outputs": [
    {
     "name": "stdout",
     "output_type": "stream",
     "text": [
      "+--------------------+------------+------------+\n",
      "|                    |   Original |   Estimate |\n",
      "+====================+============+============+\n",
      "| Mean               |       42   |   41.7199  |\n",
      "+--------------------+------------+------------+\n",
      "| Standard Deviation |        5.5 |    6.44085 |\n",
      "+--------------------+------------+------------+\n"
     ]
    }
   ],
   "source": [
    "print(tabulate([['Mean', mean, mean_estimate], ['Standard Deviation', stddev, sample_stddev]], headers=['Original', 'Estimate'], tablefmt='grid'))"
   ]
  },
  {
   "cell_type": "markdown",
   "metadata": {},
   "source": [
    "# New Occurences and Fit to Forecast\n",
    "Now generate 5 more occurences of the variable and check if they fit our forecast"
   ]
  },
  {
   "cell_type": "code",
   "execution_count": 29,
   "metadata": {},
   "outputs": [
    {
     "data": {
      "image/png": "[encoded data removed]",
      "text/plain": [
       "<Figure size 432x288 with 1 Axes>"
      ]
     },
     "metadata": {},
     "output_type": "display_data"
    }
   ],
   "source": [
    "additional_occurences = generate_time_series(mean, stddev, num_occurences)\n",
    "\n",
    "plt.plot(sample_series, 'bo')\n",
    "plt.plot([sample_size + i for i in range(num_occurences)], additional_occurences, 'go')\n",
    "plt.ylim(0, 80)\n",
    "plt.hlines(mean_estimate, linestyles='solid', colors='g', xmin=0, xmax=sample_size)\n",
    "plt.hlines(mean_estimate, linestyles='solid', colors='r', xmin=sample_size, xmax=sample_size + num_occurences)\n",
    "plt.hlines(forecast_confidence_interval, linestyles='dashed', colors='r', xmin=sample_size, xmax=sample_size + num_occurences)\n",
    "plt.title('New Occurences and Fit to Forecast')\n",
    "plt.show()"
   ]
  },
  {
   "cell_type": "markdown",
   "metadata": {},
   "source": [
    "All the new occurences fall within our confidence interval for the forecasts. Let's calculate the mean squared error"
   ]
  },
  {
   "cell_type": "code",
   "execution_count": 32,
   "metadata": {},
   "outputs": [
    {
     "data": {
      "text/plain": [
       "6.2132202121270454"
      ]
     },
     "execution_count": 32,
     "metadata": {},
     "output_type": "execute_result"
    }
   ],
   "source": [
    "errors = additional_occurences - mean_estimate\n",
    "RMSE = np.sqrt(np.sum(errors * errors) / num_occurences)\n",
    "RMSE"
   ]
  },
  {
   "cell_type": "code",
   "execution_count": null,
   "metadata": {},
   "outputs": [],
   "source": []
  }
 ],
 "metadata": {
  "kernelspec": {
   "display_name": "Python 3",
   "language": "python",
   "name": "python3"
  },
  "language_info": {
   "codemirror_mode": {
    "name": "ipython",
    "version": 3
   },
   "file_extension": ".py",
   "mimetype": "text/x-python",
   "name": "python",
   "nbconvert_exporter": "python",
   "pygments_lexer": "ipython3",
   "version": "3.6.3"
  }
 },
 "nbformat": 4,
 "nbformat_minor": 2
}
